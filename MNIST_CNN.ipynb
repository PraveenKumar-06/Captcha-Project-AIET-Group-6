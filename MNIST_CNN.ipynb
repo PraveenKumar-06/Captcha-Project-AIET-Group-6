{
  "nbformat": 4,
  "nbformat_minor": 0,
  "metadata": {
    "colab": {
      "name": "MNIST_CNN.ipynb",
      "version": "0.3.2",
      "provenance": [],
      "collapsed_sections": [],
      "include_colab_link": true
    },
    "kernelspec": {
      "name": "python3",
      "display_name": "Python 3"
    },
    "accelerator": "GPU"
  },
  "cells": [
    {
      "cell_type": "markdown",
      "metadata": {
        "id": "view-in-github",
        "colab_type": "text"
      },
      "source": [
        "<a href=\"https://colab.research.google.com/github/PraveenKumar-06/Captcha-Project-AIET-Group-6/blob/master/MNIST_CNN.ipynb\" target=\"_parent\"><img src=\"https://colab.research.google.com/assets/colab-badge.svg\" alt=\"Open In Colab\"/></a>"
      ]
    },
    {
      "cell_type": "code",
      "metadata": {
        "id": "ONOyeF_r9Pqn",
        "colab_type": "code",
        "outputId": "eced763d-842a-4408-b169-4e9a13776de0",
        "colab": {
          "base_uri": "https://localhost:8080/",
          "height": 35
        }
      },
      "source": [
        "import keras  \n",
        "from keras.datasets import mnist  \n",
        "from keras.models import Sequential  \n",
        "from keras.layers import Dense, Dropout, Flatten  \n",
        "from keras.layers import Conv2D, MaxPooling2D  \n",
        "from keras import backend as K\n",
        "import matplotlib.pyplot as plt"
      ],
      "execution_count": 0,
      "outputs": [
        {
          "output_type": "stream",
          "text": [
            "Using TensorFlow backend.\n"
          ],
          "name": "stderr"
        }
      ]
    },
    {
      "cell_type": "code",
      "metadata": {
        "id": "0KvBu_Jl9Pqx",
        "colab_type": "code",
        "outputId": "8699a8e5-a894-4a7c-ca53-09dfffb1df5a",
        "colab": {
          "base_uri": "https://localhost:8080/",
          "height": 109
        }
      },
      "source": [
        "#Loading data and setting up training parameters## \n",
        "batch_size = 128  \n",
        "num_classes = 10  \n",
        "epochs = 20 \n",
        "# input image dimensions  \n",
        "img_rows, img_cols = 28, 28    \n",
        "(x_train, y_train), (x_test, y_test) = mnist.load_data()  \n",
        "if K.image_data_format() == 'channels_first':  \n",
        "  x_train = x_train.reshape(x_train.shape[0], 1, img_rows, img_cols)  \n",
        "  x_test = x_test.reshape(x_test.shape[0], 1, img_rows, img_cols)  \n",
        "  input_shape = (1, img_rows, img_cols)  \n",
        "else:  \n",
        "  x_train = x_train.reshape(x_train.shape[0], img_rows, img_cols, 1)  \n",
        "  x_test = x_test.reshape(x_test.shape[0], img_rows, img_cols, 1)  \n",
        "  input_shape = (img_rows, img_cols, 1)  \n",
        "x_train = x_train.astype('float32')  \n",
        "x_test = x_test.astype('float32')  \n",
        "x_train /= 255  \n",
        "x_test /= 255  \n",
        "print('x_train shape:', x_train.shape)  \n",
        "print(x_train.shape[0], 'train samples')  \n",
        "print(x_test.shape[0], 'test samples')  \n",
        "# convert class vectors to binary class matrices  \n",
        "y_train = keras.utils.to_categorical(y_train, num_classes)  \n",
        "y_test = keras.utils.to_categorical(y_test, num_classes)"
      ],
      "execution_count": 0,
      "outputs": [
        {
          "output_type": "stream",
          "text": [
            "Downloading data from https://s3.amazonaws.com/img-datasets/mnist.npz\n",
            "11493376/11490434 [==============================] - 1s 0us/step\n",
            "x_train shape: (60000, 28, 28, 1)\n",
            "60000 train samples\n",
            "10000 test samples\n"
          ],
          "name": "stdout"
        }
      ]
    },
    {
      "cell_type": "code",
      "metadata": {
        "id": "pJ8ootg89PrD",
        "colab_type": "code",
        "outputId": "35e44a3f-1fa6-4734-f36a-ab98dacda5fc",
        "colab": {
          "base_uri": "https://localhost:8080/",
          "height": 202
        }
      },
      "source": [
        "#Designing the model\n",
        "\n",
        "model = Sequential()  \n",
        "model.add(Conv2D(8, kernel_size=(3, 3),  \n",
        "         activation='relu',  \n",
        "         input_shape=input_shape))  \n",
        "model.add(MaxPooling2D(pool_size=(2, 2)))\n",
        "model.add(Conv2D(16, (3, 3), activation='relu'))  \n",
        "model.add(MaxPooling2D(pool_size=(2, 2)))  #droping elements to reduce dimensionality\n",
        "model.add(Flatten())  \n",
        "model.add(Dense(128, activation='relu'))  \n",
        "model.add(Dense(num_classes, activation='softmax'))  "
      ],
      "execution_count": 0,
      "outputs": [
        {
          "output_type": "stream",
          "text": [
            "WARNING: Logging before flag parsing goes to stderr.\n",
            "W0627 10:05:28.328526 140069212206976 deprecation_wrapper.py:119] From /usr/local/lib/python3.6/dist-packages/keras/backend/tensorflow_backend.py:74: The name tf.get_default_graph is deprecated. Please use tf.compat.v1.get_default_graph instead.\n",
            "\n",
            "W0627 10:05:28.367934 140069212206976 deprecation_wrapper.py:119] From /usr/local/lib/python3.6/dist-packages/keras/backend/tensorflow_backend.py:517: The name tf.placeholder is deprecated. Please use tf.compat.v1.placeholder instead.\n",
            "\n",
            "W0627 10:05:28.374161 140069212206976 deprecation_wrapper.py:119] From /usr/local/lib/python3.6/dist-packages/keras/backend/tensorflow_backend.py:4138: The name tf.random_uniform is deprecated. Please use tf.random.uniform instead.\n",
            "\n",
            "W0627 10:05:28.401499 140069212206976 deprecation_wrapper.py:119] From /usr/local/lib/python3.6/dist-packages/keras/backend/tensorflow_backend.py:3976: The name tf.nn.max_pool is deprecated. Please use tf.nn.max_pool2d instead.\n",
            "\n"
          ],
          "name": "stderr"
        }
      ]
    },
    {
      "cell_type": "code",
      "metadata": {
        "id": "uW2Pe1m-9PrM",
        "colab_type": "code",
        "outputId": "ca3acde2-e7f9-4364-de61-013e9428dbb6",
        "colab": {
          "base_uri": "https://localhost:8080/",
          "height": 110
        }
      },
      "source": [
        "#Compailing the Model\n",
        "model.compile(loss=keras.losses.categorical_crossentropy,  \n",
        "       optimizer=keras.optimizers.Adadelta(),  \n",
        "       metrics=['accuracy'])"
      ],
      "execution_count": 0,
      "outputs": [
        {
          "output_type": "stream",
          "text": [
            "W0627 10:05:37.505819 140069212206976 deprecation_wrapper.py:119] From /usr/local/lib/python3.6/dist-packages/keras/optimizers.py:790: The name tf.train.Optimizer is deprecated. Please use tf.compat.v1.train.Optimizer instead.\n",
            "\n",
            "W0627 10:05:37.516093 140069212206976 deprecation_wrapper.py:119] From /usr/local/lib/python3.6/dist-packages/keras/backend/tensorflow_backend.py:3295: The name tf.log is deprecated. Please use tf.math.log instead.\n",
            "\n"
          ],
          "name": "stderr"
        }
      ]
    },
    {
      "cell_type": "code",
      "metadata": {
        "id": "cyUYQr759PrW",
        "colab_type": "code",
        "outputId": "d9bfb95f-b9d2-4a0f-98b5-71e407a40dd4",
        "colab": {
          "base_uri": "https://localhost:8080/",
          "height": 1000
        }
      },
      "source": [
        "#Traning the Model\n",
        "history = model.fit(x_train, y_train,  \n",
        "     batch_size=batch_size,  \n",
        "     epochs=epochs,  \n",
        "     verbose=1,  \n",
        "     validation_data=(x_test, y_test))  \n",
        "score = model.evaluate(x_test, y_test, verbose=0)  \n",
        "print('Test loss:', score[0])  \n",
        "print('Test accuracy:', score[1])  \n",
        "print(history.history.keys())  \n",
        "\n",
        "plt.plot(history.history['acc'])  \n",
        "plt.plot(history.history['val_acc'])  \n",
        "plt.title('model accuracy')  \n",
        "plt.ylabel('accuracy')  \n",
        "plt.xlabel('epoch')  \n",
        "plt.legend(['train', 'test'], loc='upper left')  \n",
        "plt.show()  \n",
        "  \n",
        "plt.plot(history.history['loss'])  \n",
        "plt.plot(history.history['val_loss'])  \n",
        "plt.title('model loss')  \n",
        "plt.ylabel('loss')  \n",
        "plt.xlabel('epoch')  \n",
        "plt.legend(['train', 'test'], loc='upper left')  \n",
        "plt.show()"
      ],
      "execution_count": 0,
      "outputs": [
        {
          "output_type": "stream",
          "text": [
            "W0627 10:05:46.487495 140069212206976 deprecation.py:323] From /usr/local/lib/python3.6/dist-packages/tensorflow/python/ops/math_grad.py:1250: add_dispatch_support.<locals>.wrapper (from tensorflow.python.ops.array_ops) is deprecated and will be removed in a future version.\n",
            "Instructions for updating:\n",
            "Use tf.where in 2.0, which has the same broadcast rule as np.where\n",
            "W0627 10:05:46.600229 140069212206976 deprecation_wrapper.py:119] From /usr/local/lib/python3.6/dist-packages/keras/backend/tensorflow_backend.py:986: The name tf.assign_add is deprecated. Please use tf.compat.v1.assign_add instead.\n",
            "\n"
          ],
          "name": "stderr"
        },
        {
          "output_type": "stream",
          "text": [
            "Train on 60000 samples, validate on 10000 samples\n",
            "Epoch 1/20\n",
            "60000/60000 [==============================] - 9s 152us/step - loss: 0.2744 - acc: 0.9168 - val_loss: 0.0850 - val_acc: 0.9744\n",
            "Epoch 2/20\n",
            "60000/60000 [==============================] - 2s 39us/step - loss: 0.0749 - acc: 0.9774 - val_loss: 0.0533 - val_acc: 0.9836\n",
            "Epoch 3/20\n",
            "60000/60000 [==============================] - 2s 39us/step - loss: 0.0542 - acc: 0.9832 - val_loss: 0.0462 - val_acc: 0.9852\n",
            "Epoch 4/20\n",
            "60000/60000 [==============================] - 2s 38us/step - loss: 0.0430 - acc: 0.9866 - val_loss: 0.0413 - val_acc: 0.9864\n",
            "Epoch 5/20\n",
            "60000/60000 [==============================] - 2s 39us/step - loss: 0.0357 - acc: 0.9891 - val_loss: 0.0351 - val_acc: 0.9873\n",
            "Epoch 6/20\n",
            "60000/60000 [==============================] - 2s 39us/step - loss: 0.0307 - acc: 0.9904 - val_loss: 0.0385 - val_acc: 0.9879\n",
            "Epoch 7/20\n",
            "60000/60000 [==============================] - 2s 38us/step - loss: 0.0259 - acc: 0.9919 - val_loss: 0.0306 - val_acc: 0.9906\n",
            "Epoch 8/20\n",
            "60000/60000 [==============================] - 2s 38us/step - loss: 0.0228 - acc: 0.9923 - val_loss: 0.0396 - val_acc: 0.9876\n",
            "Epoch 9/20\n",
            "60000/60000 [==============================] - 2s 38us/step - loss: 0.0192 - acc: 0.9940 - val_loss: 0.0345 - val_acc: 0.9887\n",
            "Epoch 10/20\n",
            "60000/60000 [==============================] - 2s 38us/step - loss: 0.0176 - acc: 0.9944 - val_loss: 0.0302 - val_acc: 0.9904\n",
            "Epoch 11/20\n",
            "60000/60000 [==============================] - 2s 38us/step - loss: 0.0153 - acc: 0.9952 - val_loss: 0.0330 - val_acc: 0.9900\n",
            "Epoch 12/20\n",
            "60000/60000 [==============================] - 2s 39us/step - loss: 0.0130 - acc: 0.9960 - val_loss: 0.0359 - val_acc: 0.9893\n",
            "Epoch 13/20\n",
            "60000/60000 [==============================] - 2s 38us/step - loss: 0.0115 - acc: 0.9965 - val_loss: 0.0431 - val_acc: 0.9875\n",
            "Epoch 14/20\n",
            "60000/60000 [==============================] - 2s 39us/step - loss: 0.0100 - acc: 0.9970 - val_loss: 0.0297 - val_acc: 0.9909\n",
            "Epoch 15/20\n",
            "60000/60000 [==============================] - 2s 39us/step - loss: 0.0089 - acc: 0.9973 - val_loss: 0.0319 - val_acc: 0.9901\n",
            "Epoch 16/20\n",
            "60000/60000 [==============================] - 2s 38us/step - loss: 0.0083 - acc: 0.9977 - val_loss: 0.0317 - val_acc: 0.9913\n",
            "Epoch 17/20\n",
            "60000/60000 [==============================] - 2s 39us/step - loss: 0.0071 - acc: 0.9980 - val_loss: 0.0362 - val_acc: 0.9899\n",
            "Epoch 18/20\n",
            "60000/60000 [==============================] - 2s 39us/step - loss: 0.0061 - acc: 0.9983 - val_loss: 0.0327 - val_acc: 0.9907\n",
            "Epoch 19/20\n",
            "60000/60000 [==============================] - 2s 39us/step - loss: 0.0053 - acc: 0.9985 - val_loss: 0.0391 - val_acc: 0.9892\n",
            "Epoch 20/20\n",
            "60000/60000 [==============================] - 2s 39us/step - loss: 0.0047 - acc: 0.9989 - val_loss: 0.0342 - val_acc: 0.9912\n",
            "Test loss: 0.03422536935283515\n",
            "Test accuracy: 0.9912\n",
            "dict_keys(['val_loss', 'val_acc', 'loss', 'acc'])\n"
          ],
          "name": "stdout"
        },
        {
          "output_type": "display_data",
          "data": {
            "image/png": "[encoded data removed]",
            "text/plain": [
              "<Figure size 432x288 with 1 Axes>"
            ]
          },
          "metadata": {
            "tags": []
          }
        },
        {
          "output_type": "display_data",
          "data": {
            "image/png": "[encoded data removed]",
            "text/plain": [
              "<Figure size 432x288 with 1 Axes>"
            ]
          },
          "metadata": {
            "tags": []
          }
        }
      ]
    },
    {
      "cell_type": "code",
      "metadata": {
        "id": "kkB2ViRb0ZyZ",
        "colab_type": "code",
        "outputId": "3a707b14-40fd-4e74-a304-4478ee666b4b",
        "colab": {
          "base_uri": "https://localhost:8080/",
          "height": 306
        }
      },
      "source": [
        "image_index = 4444\n",
        "plt.imshow(x_test[image_index].reshape(28, 28),cmap='Greys')\n",
        "pred = model.predict(x_test[image_index].reshape(1, 28, 28, 1))\n",
        "print(pred.argmax())\n",
        "print(pred.max())"
      ],
      "execution_count": 0,
      "outputs": [
        {
          "output_type": "stream",
          "text": [
            "9\n",
            "0.99957484\n"
          ],
          "name": "stdout"
        },
        {
          "output_type": "display_data",
          "data": {
            "image/png": "[encoded data removed]",
            "text/plain": [
              "<Figure size 432x288 with 1 Axes>"
            ]
          },
          "metadata": {
            "tags": []
          }
        }
      ]
    },
    {
      "cell_type": "code",
      "metadata": {
        "id": "U9yXDfZg2k4u",
        "colab_type": "code",
        "outputId": "e5dd0059-2ccd-4821-c72e-7ef6636e987f",
        "colab": {
          "base_uri": "https://localhost:8080/",
          "height": 324
        }
      },
      "source": [
        "import cv2\n",
        "import numpy as np\n",
        "img = cv2.imread('crop.jpg')\n",
        "img = cv2.cvtColor(img, cv2.COLOR_BGR2GRAY)\n",
        "img = cv2.bitwise_not(img)\n",
        "img = cv2.resize(img, (28, 28))\n",
        "img = np.array(img)\n",
        "img = img.astype('float32')/255\n",
        "img.shape\n",
        "pred = model.predict(img.reshape(1,28,28,1))[0]\n",
        "print(pred.argmax())\n",
        "print(pred.max())\n",
        "import matplotlib.pyplot as plt\n",
        "plt.imshow(img,cmap='Greys')"
      ],
      "execution_count": 0,
      "outputs": [
        {
          "output_type": "stream",
          "text": [
            "2\n",
            "0.9949655\n"
          ],
          "name": "stdout"
        },
        {
          "output_type": "execute_result",
          "data": {
            "text/plain": [
              "<matplotlib.image.AxesImage at 0x7f63c4140518>"
            ]
          },
          "metadata": {
            "tags": []
          },
          "execution_count": 7
        },
        {
          "output_type": "display_data",
          "data": {
            "image/png": "[encoded data removed]",
            "text/plain": [
              "<Figure size 432x288 with 1 Axes>"
            ]
          },
          "metadata": {
            "tags": []
          }
        }
      ]
    },
    {
      "cell_type": "code",
      "metadata": {
        "id": "twIEEpOGarSW",
        "colab_type": "code",
        "colab": {}
      },
      "source": [
        "import pickle \n",
        "\n",
        "# Save the trained model as a pickle string. \n",
        "filename = 'MNIST.sav'\n",
        "pickle.dump(model, open(filename, 'wb'))"
      ],
      "execution_count": 0,
      "outputs": []
    }
  ]
}