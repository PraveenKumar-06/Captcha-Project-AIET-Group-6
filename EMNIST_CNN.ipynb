{
  "nbformat": 4,
  "nbformat_minor": 0,
  "metadata": {
    "colab": {
      "name": "EMNIST_CNN.ipynb",
      "version": "0.3.2",
      "provenance": [],
      "collapsed_sections": [],
      "include_colab_link": true
    },
    "kernelspec": {
      "name": "python3",
      "display_name": "Python 3"
    },
    "accelerator": "GPU"
  },
  "cells": [
    {
      "cell_type": "markdown",
      "metadata": {
        "id": "view-in-github",
        "colab_type": "text"
      },
      "source": [
        "<a href=\"https://colab.research.google.com/github/PraveenKumar-06/Captcha-Project-AIET-Group-6/blob/master/EMNIST_CNN.ipynb\" target=\"_parent\"><img src=\"https://colab.research.google.com/assets/colab-badge.svg\" alt=\"Open In Colab\"/></a>"
      ]
    },
    {
      "cell_type": "code",
      "metadata": {
        "id": "_qsj9TjmuPa-",
        "colab_type": "code",
        "outputId": "49375040-31a8-48d7-8ade-001453539fad",
        "colab": {
          "base_uri": "https://localhost:8080/",
          "height": 219
        }
      },
      "source": [
        "!pip install emnist"
      ],
      "execution_count": 0,
      "outputs": [
        {
          "output_type": "stream",
          "text": [
            "Collecting emnist\n",
            "  Downloading https://files.pythonhosted.org/packages/d1/f4/78b24acbef9e8fe976dda700f16a3606f3b8363b015bc555f8050fbbd8ac/emnist-0.0-py3-none-any.whl\n",
            "Requirement already satisfied: tqdm in /usr/local/lib/python3.6/dist-packages (from emnist) (4.28.1)\n",
            "Requirement already satisfied: requests in /usr/local/lib/python3.6/dist-packages (from emnist) (2.21.0)\n",
            "Requirement already satisfied: numpy in /usr/local/lib/python3.6/dist-packages (from emnist) (1.16.4)\n",
            "Requirement already satisfied: idna<2.9,>=2.5 in /usr/local/lib/python3.6/dist-packages (from requests->emnist) (2.8)\n",
            "Requirement already satisfied: urllib3<1.25,>=1.21.1 in /usr/local/lib/python3.6/dist-packages (from requests->emnist) (1.24.3)\n",
            "Requirement already satisfied: chardet<3.1.0,>=3.0.2 in /usr/local/lib/python3.6/dist-packages (from requests->emnist) (3.0.4)\n",
            "Requirement already satisfied: certifi>=2017.4.17 in /usr/local/lib/python3.6/dist-packages (from requests->emnist) (2019.6.16)\n",
            "Installing collected packages: emnist\n",
            "Successfully installed emnist-0.0\n"
          ],
          "name": "stdout"
        }
      ]
    },
    {
      "cell_type": "code",
      "metadata": {
        "id": "2tXmCiierY2d",
        "colab_type": "code",
        "outputId": "d5e70099-b904-4a10-b255-2954581dad11",
        "colab": {
          "base_uri": "https://localhost:8080/",
          "height": 35
        }
      },
      "source": [
        "from __future__ import print_function\n",
        "import keras\n",
        "from keras.models import Sequential, load_model\n",
        "from keras.layers import Dense, Dropout, Flatten\n",
        "from keras.layers import Conv2D, MaxPooling2D\n",
        "from keras import backend as K\n",
        "from sklearn.model_selection import train_test_split\n",
        "from emnist import extract_training_samples"
      ],
      "execution_count": 0,
      "outputs": [
        {
          "output_type": "stream",
          "text": [
            "Using TensorFlow backend.\n"
          ],
          "name": "stderr"
        }
      ]
    },
    {
      "cell_type": "code",
      "metadata": {
        "id": "NjHcG8yNrsAb",
        "colab_type": "code",
        "outputId": "10145644-a133-4773-892e-30655e287b5d",
        "colab": {
          "base_uri": "https://localhost:8080/",
          "height": 35
        }
      },
      "source": [
        "\n",
        "# Input image dimensions\n",
        "img_rows, img_cols = 28, 28\n",
        "num_classes = 26\n",
        "\n",
        "X, y = extract_training_samples('letters')\n",
        "\n",
        "X = X.reshape(124800, 28, 28)\n",
        "y = y.reshape(124800, 1)\n",
        "\n",
        "y = y-1\n",
        "\n",
        "x_train, x_test, y_train, y_test = train_test_split(X, y, test_size=0.25, random_state=111)\n",
        "\n",
        "x_train = x_train.reshape(x_train.shape[0], img_rows, img_cols, 1)\n",
        "x_test = x_test.reshape(x_test.shape[0], img_rows, img_cols, 1)\n",
        "input_shape = (img_rows, img_cols, 1)\n",
        "\n",
        "x_train = x_train.astype('float32')\n",
        "x_test = x_test.astype('float32')\n",
        "\n",
        "# Rescale the image values to [0, 1]\n",
        "x_train /= 255\n",
        "x_test /= 255\n",
        "\n",
        "# Convert class vectors to binary class matrices\n",
        "y_train = keras.utils.to_categorical(y_train, num_classes)\n",
        "y_test = keras.utils.to_categorical(y_test, num_classes)"
      ],
      "execution_count": 0,
      "outputs": [
        {
          "output_type": "stream",
          "text": [
            "Downloading emnist.zip: 536MB [00:04, 130MB/s] \n"
          ],
          "name": "stderr"
        }
      ]
    },
    {
      "cell_type": "code",
      "metadata": {
        "id": "CCTDd8oxsX8d",
        "colab_type": "code",
        "outputId": "9c928201-2a6a-4683-96a1-1915c8fcf249",
        "colab": {
          "base_uri": "https://localhost:8080/",
          "height": 294
        }
      },
      "source": [
        "\n",
        "####### Step 2: Designing the model############\n",
        "\n",
        "model = Sequential()  \n",
        "model.add(Conv2D(32, kernel_size=(3, 3),  \n",
        "         activation='relu',  \n",
        "         input_shape=input_shape))  \n",
        "model.add(MaxPooling2D(pool_size=(2, 2)))\n",
        "model.add(Dropout(0.25))  \n",
        "model.add(Conv2D(64, (3, 3), activation='relu'))  \n",
        "model.add(MaxPooling2D(pool_size=(2, 2)))  #droping elements to reduce dimensionality\n",
        "model.add(Dropout(0.25))  \n",
        "model.add(Flatten())  \n",
        "model.add(Dense(128, activation='relu'))  \n",
        "model.add(Dropout(0.5))  \n",
        "model.add(Dense(num_classes, activation='softmax'))  "
      ],
      "execution_count": 0,
      "outputs": [
        {
          "output_type": "stream",
          "text": [
            "WARNING: Logging before flag parsing goes to stderr.\n",
            "W0627 10:23:45.379469 140613322557312 deprecation_wrapper.py:119] From /usr/local/lib/python3.6/dist-packages/keras/backend/tensorflow_backend.py:74: The name tf.get_default_graph is deprecated. Please use tf.compat.v1.get_default_graph instead.\n",
            "\n",
            "W0627 10:23:45.421480 140613322557312 deprecation_wrapper.py:119] From /usr/local/lib/python3.6/dist-packages/keras/backend/tensorflow_backend.py:517: The name tf.placeholder is deprecated. Please use tf.compat.v1.placeholder instead.\n",
            "\n",
            "W0627 10:23:45.429790 140613322557312 deprecation_wrapper.py:119] From /usr/local/lib/python3.6/dist-packages/keras/backend/tensorflow_backend.py:4138: The name tf.random_uniform is deprecated. Please use tf.random.uniform instead.\n",
            "\n",
            "W0627 10:23:45.456489 140613322557312 deprecation_wrapper.py:119] From /usr/local/lib/python3.6/dist-packages/keras/backend/tensorflow_backend.py:3976: The name tf.nn.max_pool is deprecated. Please use tf.nn.max_pool2d instead.\n",
            "\n",
            "W0627 10:23:45.459054 140613322557312 deprecation_wrapper.py:119] From /usr/local/lib/python3.6/dist-packages/keras/backend/tensorflow_backend.py:133: The name tf.placeholder_with_default is deprecated. Please use tf.compat.v1.placeholder_with_default instead.\n",
            "\n",
            "W0627 10:23:45.469232 140613322557312 deprecation.py:506] From /usr/local/lib/python3.6/dist-packages/keras/backend/tensorflow_backend.py:3445: calling dropout (from tensorflow.python.ops.nn_ops) with keep_prob is deprecated and will be removed in a future version.\n",
            "Instructions for updating:\n",
            "Please use `rate` instead of `keep_prob`. Rate should be set to `rate = 1 - keep_prob`.\n"
          ],
          "name": "stderr"
        }
      ]
    },
    {
      "cell_type": "code",
      "metadata": {
        "id": "bpITWhrds2Ct",
        "colab_type": "code",
        "outputId": "573d8ec1-860b-4a18-be4e-0b2bdcd0288c",
        "colab": {
          "base_uri": "https://localhost:8080/",
          "height": 110
        }
      },
      "source": [
        "# Comple the model\n",
        "model.compile(loss=keras.losses.categorical_crossentropy,\n",
        "              optimizer=keras.optimizers.Adadelta(),\n",
        "              metrics=['accuracy'])"
      ],
      "execution_count": 0,
      "outputs": [
        {
          "output_type": "stream",
          "text": [
            "W0627 10:23:58.147978 140613322557312 deprecation_wrapper.py:119] From /usr/local/lib/python3.6/dist-packages/keras/optimizers.py:790: The name tf.train.Optimizer is deprecated. Please use tf.compat.v1.train.Optimizer instead.\n",
            "\n",
            "W0627 10:23:58.156285 140613322557312 deprecation_wrapper.py:119] From /usr/local/lib/python3.6/dist-packages/keras/backend/tensorflow_backend.py:3295: The name tf.log is deprecated. Please use tf.math.log instead.\n",
            "\n"
          ],
          "name": "stderr"
        }
      ]
    },
    {
      "cell_type": "code",
      "metadata": {
        "id": "OrGe4xzQs5t8",
        "colab_type": "code",
        "outputId": "b6c36df9-4bc4-47b1-f218-72a5fbbaeb42",
        "colab": {
          "base_uri": "https://localhost:8080/",
          "height": 864
        }
      },
      "source": [
        "# Model variables\n",
        "batch_size = 128\n",
        "num_classes = 26\n",
        "epochs = 20\n",
        "\n",
        "# Train the model\n",
        "model.fit(x_train, y_train,\n",
        "          batch_size=batch_size,\n",
        "          epochs=epochs,\n",
        "          verbose=1,\n",
        "          validation_data=(x_test, y_test))\n"
      ],
      "execution_count": 0,
      "outputs": [
        {
          "output_type": "stream",
          "text": [
            "W0627 10:24:05.751935 140613322557312 deprecation.py:323] From /usr/local/lib/python3.6/dist-packages/tensorflow/python/ops/math_grad.py:1250: add_dispatch_support.<locals>.wrapper (from tensorflow.python.ops.array_ops) is deprecated and will be removed in a future version.\n",
            "Instructions for updating:\n",
            "Use tf.where in 2.0, which has the same broadcast rule as np.where\n"
          ],
          "name": "stderr"
        },
        {
          "output_type": "stream",
          "text": [
            "Train on 93600 samples, validate on 31200 samples\n",
            "Epoch 1/20\n",
            "93600/93600 [==============================] - 12s 127us/step - loss: 0.9967 - acc: 0.6954 - val_loss: 0.3733 - val_acc: 0.8791\n",
            "Epoch 2/20\n",
            "93600/93600 [==============================] - 5s 51us/step - loss: 0.5152 - acc: 0.8371 - val_loss: 0.2897 - val_acc: 0.9054\n",
            "Epoch 3/20\n",
            "93600/93600 [==============================] - 5s 51us/step - loss: 0.4378 - acc: 0.8614 - val_loss: 0.2570 - val_acc: 0.9164\n",
            "Epoch 4/20\n",
            "93600/93600 [==============================] - 5s 51us/step - loss: 0.3909 - acc: 0.8765 - val_loss: 0.2581 - val_acc: 0.9159\n",
            "Epoch 5/20\n",
            "93600/93600 [==============================] - 5s 52us/step - loss: 0.3644 - acc: 0.8836 - val_loss: 0.2300 - val_acc: 0.9238\n",
            "Epoch 6/20\n",
            "93600/93600 [==============================] - 5s 52us/step - loss: 0.3382 - acc: 0.8925 - val_loss: 0.2222 - val_acc: 0.9269\n",
            "Epoch 7/20\n",
            "93600/93600 [==============================] - 5s 52us/step - loss: 0.3253 - acc: 0.8965 - val_loss: 0.2154 - val_acc: 0.9283\n",
            "Epoch 8/20\n",
            "93600/93600 [==============================] - 5s 51us/step - loss: 0.3095 - acc: 0.9001 - val_loss: 0.2160 - val_acc: 0.9282\n",
            "Epoch 9/20\n",
            "93600/93600 [==============================] - 5s 51us/step - loss: 0.3016 - acc: 0.9038 - val_loss: 0.2030 - val_acc: 0.9324\n",
            "Epoch 10/20\n",
            "93600/93600 [==============================] - 5s 51us/step - loss: 0.2940 - acc: 0.9054 - val_loss: 0.1998 - val_acc: 0.9333\n",
            "Epoch 11/20\n",
            "93600/93600 [==============================] - 5s 51us/step - loss: 0.2870 - acc: 0.9085 - val_loss: 0.2111 - val_acc: 0.9312\n",
            "Epoch 12/20\n",
            "93600/93600 [==============================] - 5s 51us/step - loss: 0.2847 - acc: 0.9097 - val_loss: 0.1930 - val_acc: 0.9351\n",
            "Epoch 13/20\n",
            "93600/93600 [==============================] - 5s 51us/step - loss: 0.2759 - acc: 0.9102 - val_loss: 0.1928 - val_acc: 0.9349\n",
            "Epoch 14/20\n",
            "93600/93600 [==============================] - 5s 51us/step - loss: 0.2729 - acc: 0.9119 - val_loss: 0.1991 - val_acc: 0.9347\n",
            "Epoch 15/20\n",
            "93600/93600 [==============================] - 5s 51us/step - loss: 0.2710 - acc: 0.9130 - val_loss: 0.1945 - val_acc: 0.9359\n",
            "Epoch 16/20\n",
            "93600/93600 [==============================] - 5s 51us/step - loss: 0.2653 - acc: 0.9141 - val_loss: 0.1914 - val_acc: 0.9354\n",
            "Epoch 17/20\n",
            "93600/93600 [==============================] - 5s 50us/step - loss: 0.2606 - acc: 0.9148 - val_loss: 0.2001 - val_acc: 0.9347\n",
            "Epoch 18/20\n",
            "93600/93600 [==============================] - 5s 51us/step - loss: 0.2615 - acc: 0.9153 - val_loss: 0.1894 - val_acc: 0.9367\n",
            "Epoch 19/20\n",
            "93600/93600 [==============================] - 5s 51us/step - loss: 0.2575 - acc: 0.9169 - val_loss: 0.1874 - val_acc: 0.9380\n",
            "Epoch 20/20\n",
            "93600/93600 [==============================] - 5s 51us/step - loss: 0.2582 - acc: 0.9173 - val_loss: 0.1881 - val_acc: 0.9380\n"
          ],
          "name": "stdout"
        },
        {
          "output_type": "execute_result",
          "data": {
            "text/plain": [
              "<keras.callbacks.History at 0x7fe2c447f160>"
            ]
          },
          "metadata": {
            "tags": []
          },
          "execution_count": 6
        }
      ]
    },
    {
      "cell_type": "code",
      "metadata": {
        "id": "MqkA8HsatOv8",
        "colab_type": "code",
        "outputId": "c12fc7c8-3c25-407d-bea8-7be5b8e0a58e",
        "colab": {
          "base_uri": "https://localhost:8080/",
          "height": 54
        }
      },
      "source": [
        "\n",
        "# Evaluate the model using Accuracy and Loss\n",
        "score = model.evaluate(x_test, y_test, verbose=0)\n",
        "print('Test loss:', score[0])\n",
        "print('Test accuracy:', score[1])"
      ],
      "execution_count": 0,
      "outputs": [
        {
          "output_type": "stream",
          "text": [
            "Test loss: 0.18809459161252165\n",
            "Test accuracy: 0.9380128205128205\n"
          ],
          "name": "stdout"
        }
      ]
    },
    {
      "cell_type": "code",
      "metadata": {
        "id": "mA-JD-X5tP0S",
        "colab_type": "code",
        "outputId": "954f0aab-6f12-4db7-84a4-412411788df7",
        "colab": {
          "base_uri": "https://localhost:8080/",
          "height": 306
        }
      },
      "source": [
        "import matplotlib.pyplot as plt\n",
        "image_index = 29500\n",
        "plt.imshow(x_test[image_index].reshape(28, 28),cmap='Greys')\n",
        "pred = model.predict(x_test[image_index].reshape(1, 28, 28, 1))\n",
        "print(pred.argmax())\n",
        "print(pred.max())"
      ],
      "execution_count": 0,
      "outputs": [
        {
          "output_type": "stream",
          "text": [
            "24\n",
            "0.9999745\n"
          ],
          "name": "stdout"
        },
        {
          "output_type": "display_data",
          "data": {
            "image/png": "[encoded data removed]",
            "text/plain": [
              "<Figure size 432x288 with 1 Axes>"
            ]
          },
          "metadata": {
            "tags": []
          }
        }
      ]
    },
    {
      "cell_type": "code",
      "metadata": {
        "id": "A2RzAr5Xtgsz",
        "colab_type": "code",
        "outputId": "43f13caa-0c94-4cda-ece3-28818c741f29",
        "colab": {
          "base_uri": "https://localhost:8080/",
          "height": 324
        }
      },
      "source": [
        "import cv2\n",
        "import numpy as np\n",
        "img = cv2.imread('crop1.jpg')\n",
        "img = cv2.cvtColor(img, cv2.COLOR_BGR2GRAY)\n",
        "img = cv2.bitwise_not(img)\n",
        "img = cv2.resize(img, (28, 28))\n",
        "img = np.array(img)\n",
        "img = img.astype('float32')/255\n",
        "pred = model.predict(img.reshape(1,28,28,1))[0]\n",
        "prob = np.max(pred)\n",
        "pred = np.argmax(pred)\n",
        "print(pred)\n",
        "print(prob)\n",
        "import matplotlib.pyplot as plt\n",
        "plt.imshow(img,cmap='Greys')"
      ],
      "execution_count": 0,
      "outputs": [
        {
          "output_type": "stream",
          "text": [
            "5\n",
            "0.9729706\n"
          ],
          "name": "stdout"
        },
        {
          "output_type": "execute_result",
          "data": {
            "text/plain": [
              "<matplotlib.image.AxesImage at 0x7fe2b0117f60>"
            ]
          },
          "metadata": {
            "tags": []
          },
          "execution_count": 9
        },
        {
          "output_type": "display_data",
          "data": {
            "image/png": "[encoded data removed]",
            "text/plain": [
              "<Figure size 432x288 with 1 Axes>"
            ]
          },
          "metadata": {
            "tags": []
          }
        }
      ]
    },
    {
      "cell_type": "code",
      "metadata": {
        "id": "wiS5UK0HeePj",
        "colab_type": "code",
        "colab": {}
      },
      "source": [
        "import pickle\n",
        "filename = 'EMNIST.sav'\n",
        "pickle.dump(model, open(filename, 'wb'))"
      ],
      "execution_count": 0,
      "outputs": []
    }
  ]
}